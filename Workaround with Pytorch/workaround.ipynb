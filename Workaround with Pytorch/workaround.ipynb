{
 "cells": [
  {
   "cell_type": "markdown",
   "metadata": {},
   "source": [
    "# Neuroscience of Learning, Memory, and Cognition\n",
    "## Programming Exercise #1:\n",
    "### Basics of Python and Numpy\n",
    "#### March 2019\n",
    "#### Name:AmirHosein Rostami\n",
    "#### Student ID:96101635"
   ]
  },
  {
   "cell_type": "code",
   "execution_count": null,
   "metadata": {},
   "outputs": [],
   "source": [
    "'''\n",
    "You can import all the packages and functions you use in this cell\n",
    "try to use different types of import statements,\n",
    "such as importing specific functions and renaming packages\n",
    "'''\n",
    "import numpy as np\n"
   ]
  },
  {
   "cell_type": "code",
   "execution_count": null,
   "metadata": {},
   "outputs": [],
   "source": []
  },
  {
   "cell_type": "markdown",
   "metadata": {},
   "source": [
    "1. Generate a diagonal matrix with a random permutation of integers between 1 to 10 (inclusive) in the diagonal and zeros elsewhere."
   ]
  },
  {
   "cell_type": "code",
   "execution_count": null,
   "metadata": {},
   "outputs": [],
   "source": [
    "A1 = np.random.permutation(10) + 1\n",
    "print(np.diag(A))"
   ]
  },
  {
   "cell_type": "markdown",
   "metadata": {},
   "source": [
    "2. Generate a 1D array of 500 evenly spaced points between 0 and 3 (inclusive). Next, reshape this array to a 10x10x5 array."
   ]
  },
  {
   "cell_type": "code",
   "execution_count": null,
   "metadata": {},
   "outputs": [],
   "source": [
    "A2 = np.linspace(0,3, num=500)\n",
    "np.reshape(A2,(10,10,5))"
   ]
  },
  {
   "cell_type": "markdown",
   "metadata": {},
   "source": [
    "3. Create a Numpy array called `a`. Make a copy of it called `b`, and use `id()` to check whether their IDs match or not."
   ]
  },
  {
   "cell_type": "code",
   "execution_count": null,
   "metadata": {},
   "outputs": [],
   "source": [
    "a = [[1,2,3],[4,5,6],[7,8,9]]\n",
    "b = np.copy(a)\n",
    "print(id(a) == id(b))"
   ]
  },
  {
   "cell_type": "markdown",
   "metadata": {},
   "source": [
    "4. Generate a 100x100 matrix, which elements are sampled from a standard normal distrubtion. Show that the mean and standard deviation of this matrix is close to 0 and 1, as we expect."
   ]
  },
  {
   "cell_type": "code",
   "execution_count": null,
   "metadata": {},
   "outputs": [],
   "source": [
    "s = np.random.normal(0, 1, 10000)\n",
    "s = np.reshape(s,[100,100])\n",
    "mean = np.mean(s)\n",
    "var = np.var(s)\n",
    "print(\"var is \" + str(var) + \" & mean is \" + str(mean))\n",
    "# as you see the mean is around 0 and the var is around 1"
   ]
  },
  {
   "cell_type": "markdown",
   "metadata": {},
   "source": [
    "5. Generate a random array of your choice and save it as `.npy` file called *randmat*. Then, load it to a variable called `randmat`."
   ]
  },
  {
   "cell_type": "code",
   "execution_count": 264,
   "metadata": {},
   "outputs": [
    {
     "name": "stdout",
     "output_type": "stream",
     "text": [
      " Your Array is:\n",
      "[ 0.76  -0.191  0.237  1.119  0.828  0.328 -0.829 -0.852 -1.152  0.853]\n"
     ]
    },
    {
     "data": {
      "text/plain": [
       "array([ 0.76 , -0.191,  0.237,  1.119,  0.828,  0.328, -0.829, -0.852,\n",
       "       -1.152,  0.853])"
      ]
     },
     "execution_count": 264,
     "metadata": {},
     "output_type": "execute_result"
    }
   ],
   "source": [
    "myNumber = 10\n",
    "myArray = np.random.normal(0,1,myNumber)\n",
    "print(f\" Your Array is:\\n{myArray}\")\n",
    "from tempfile import TemporaryFile\n",
    "randmat = TemporaryFile()\n",
    "np.save(randmat, myArray)\n",
    "randmat.seek(0) # Only needed here to simulate closing & reopening file\n",
    "np.load(randmat)"
   ]
  },
  {
   "cell_type": "markdown",
   "metadata": {},
   "source": [
    "6. Generate 3 different arrays and call them a, b, and c. Save all these arrays to a `.npz` file called *mats*. Load them and store each array in a separate variable."
   ]
  },
  {
   "cell_type": "code",
   "execution_count": 267,
   "metadata": {},
   "outputs": [
    {
     "name": "stdout",
     "output_type": "stream",
     "text": [
      "[ 0.051  1.073 -1.546 -0.761 -0.097  0.93  -0.134 -1.375  0.146 -0.901]\n",
      "\n",
      "[ 1.771  1.088  0.285  1.042  1.393 -0.686 -1.39  -0.591 -0.061  0.247]\n",
      "\n",
      "[-0.98  -0.726 -0.34   0.832  0.204 -0.348  0.429  0.268  0.677 -1.363]\n",
      "\n",
      "loaded a is :\n",
      "[ 0.051  1.073 -1.546 -0.761 -0.097  0.93  -0.134 -1.375  0.146 -0.901]\n",
      "loaded b is :\n",
      "[ 1.771  1.088  0.285  1.042  1.393 -0.686 -1.39  -0.591 -0.061  0.247]\n",
      "loaded c is :\n",
      "[-0.98  -0.726 -0.34   0.832  0.204 -0.348  0.429  0.268  0.677 -1.363]\n"
     ]
    }
   ],
   "source": [
    "myNumber = 10\n",
    "a = np.random.normal(0,1,myNumber)\n",
    "print(f\"{a}\\n\")\n",
    "b = np.random.normal(0,1,myNumber)\n",
    "print(f\"{b}\\n\")\n",
    "c = np.random.normal(0,1,myNumber)\n",
    "print(f\"{c}\\n\")\n",
    "\n",
    "from tempfile import TemporaryFile\n",
    "mats = TemporaryFile()\n",
    "np.savez(mats,a,b,c)\n",
    "mats.seek(0) # Only needed here to simulate closing & reopening file\n",
    "npzfile = np.load(mats)\n",
    "npzfile.files\n",
    "\n",
    "a = npzfile['arr_0']\n",
    "b = npzfile['arr_1']\n",
    "c = npzfile['arr_2'] \n",
    "\n",
    "print(f\"loaded a is :\\n{a}\")\n",
    "print(f\"loaded b is :\\n{b}\")\n",
    "print(f\"loaded c is :\\n{c}\")\n"
   ]
  },
  {
   "cell_type": "markdown",
   "metadata": {},
   "source": [
    "7. Write a function called `describe_array`, which receives a 2D Numpy array as input and prints out the following statistics for that array:\n",
    "    - Mean\n",
    "    - Variance\n",
    "    - Maximum of a random row\n",
    "    - Third smallest element of a random column\n",
    "    - Correlation of two random rows\n",
    "    - Median of a random column\n",
    "    - Euclidean norm of the array\n",
    "    - Determinant of the array\n",
    "    - Trace of the array\n",
    "    \n",
    "    You should use f-strings to create the multi-line output of this function in a readable manner."
   ]
  },
  {
   "cell_type": "code",
   "execution_count": 295,
   "metadata": {},
   "outputs": [
    {
     "name": "stdout",
     "output_type": "stream",
     "text": [
      "[[8. 4. 0. 0. 8. 2. 9. 8. 7. 4.]\n",
      " [1. 9. 6. 7. 2. 4. 0. 7. 7. 3.]\n",
      " [8. 0. 9. 2. 6. 2. 9. 1. 9. 4.]\n",
      " [4. 8. 0. 2. 6. 8. 7. 7. 9. 9.]\n",
      " [1. 6. 9. 2. 5. 3. 5. 1. 5. 4.]\n",
      " [9. 9. 4. 6. 8. 9. 8. 6. 0. 5.]\n",
      " [6. 6. 3. 3. 0. 8. 3. 8. 1. 7.]\n",
      " [7. 1. 8. 8. 2. 1. 7. 9. 3. 5.]\n",
      " [5. 2. 8. 4. 2. 6. 7. 9. 1. 7.]\n",
      " [6. 3. 9. 3. 7. 5. 8. 5. 4. 6.]]\n",
      "inputMat's Mean is :  5.14\n",
      "inputMat's Mean is : 8.320400000000001\n",
      "Maximum of a random row is:  9.0\n",
      "Third smallest element of a random column 2.0\n",
      "the correlation is:  [207.]\n",
      "Median of a random column is:  4.5\n",
      "EuclideanNorm norm of inputArray is:  58.9406481131655\n",
      "Determinant of input array:  205242843.0000004\n",
      "Trace of the inputArray is:  61.0\n",
      "inputMat's Mean is : 5.14 \n",
      "inputMat's Variance is : 8.320400000000001 \n",
      "Maximum of a random row is: 9.0 \n",
      "Third smallest element of a random column is: 2.0 \n",
      "the correlation is: [207.]Median of a random column is: 4.5 \n",
      "EuclideanNorm norm of inputArray is: 58.9406481131655 \n",
      "Determinant of input array: 205242843.0000004 \n",
      "Trace of the inputArray is: 61.0 \n",
      "\n"
     ]
    }
   ],
   "source": [
    "def describe_array(inputMat):\n",
    "    inputMat = np.array(inputMat)\n",
    "    \n",
    "    matMean = np.mean(inputMat)\n",
    "    print(\"inputMat's Mean is : \",matMean)\n",
    "    matVar  = np.var(inputMat)\n",
    "    print(\"inputMat's Mean is :\",matVar)\n",
    "    \n",
    "    dimensions = np.shape(inputMat)\n",
    "    randomRowNumber = np.random.randint(0,dimensions[0])\n",
    "    Row = inputMat[randomRowNumber,:]\n",
    "    maxRowElement = np.max(Row)\n",
    "    print(\"Maximum of a random row is: \",maxRowElement)\n",
    "\n",
    "    randomColumnNumber = np.random.randint(0,dimensions[1])\n",
    "    randomColumn = inputMat[:,randomColumnNumber]\n",
    "    sortedColumnElements = np.sort(randomColumn)\n",
    "    thirdSmallest = sortedColumnElements[2]\n",
    "    print(\"Third smallest element of a random column\",thirdSmallest)\n",
    "    \n",
    "    random1 = np.random.randint(0,dimensions[0])\n",
    "    random2 = np.random.randint(0,dimensions[0])\n",
    "    correlation = np.correlate(inputMat[:,random1],inputMat[:,random2])\n",
    "    print(\"the correlation is: \",correlation)\n",
    "    \n",
    "    randomColumnNumber = np.random.randint(0,dimensions[1])\n",
    "    randomColumn = inputMat[:,randomColumnNumber]\n",
    "    median = np.median(randomColumn);\n",
    "    print(\"Median of a random column is: \",median)\n",
    "    \n",
    "    euclideanNorm = np.linalg.norm(inputMat,'fro') # frobenius norm is equal to EuclideanNorm ...\n",
    "    print(\"EuclideanNorm norm of inputArray is: \",euclideanNorm)\n",
    "    \n",
    "    Determinant = np.linalg.det(inputMat)\n",
    "    print(\"Determinant of input array: \",Determinant)\n",
    "    \n",
    "    trace = np.trace(inputMat)\n",
    "    print(\"Trace of the inputArray is: \",trace)\n",
    "    \n",
    "    #total output\n",
    "    print(f\"inputMat's Mean is : {matMean} \\n\" + f\"inputMat's Variance is : {matVar} \\n\" + \n",
    "      f\"Maximum of a random row is: {maxRowElement} \\n\" + f\"Third smallest element of a random column is: {thirdSmallest} \\n\"\n",
    "      f\"the correlation is: {correlation}\" + f\"Median of a random column is: {median} \\n\"\n",
    "      f\"EuclideanNorm norm of inputArray is: {euclideanNorm} \\n\" + f\"Determinant of input array: {Determinant} \\n\" \n",
    "      f\"Trace of the inputArray is: {trace} \\n\")\n",
    "      \n",
    "        \n",
    "matrixSize = 10 # you can change it easily\n",
    "myArray = []\n",
    "for i in range(matrixSize):\n",
    "    myArray = np.concatenate((myArray,np.random.randint(0,10,10)), axis=0)\n",
    "myArray = np.reshape(myArray,[matrixSize,matrixSize])\n",
    "print(myArray)    \n",
    "describe_array(myArray)"
   ]
  },
  {
   "cell_type": "markdown",
   "metadata": {},
   "source": [
    "8. Generate an array of random integers between 1 to 20 (exclusive). Extract all the elements that are between 14 and 17 (inclusive) into another array."
   ]
  },
  {
   "cell_type": "code",
   "execution_count": 271,
   "metadata": {},
   "outputs": [
    {
     "name": "stdout",
     "output_type": "stream",
     "text": [
      "[16, 15, 15, 17]\n"
     ]
    }
   ],
   "source": [
    "arraySize = 20; # there isnt any necessary limits on this noneZero_variable.\n",
    "randmat = np.random.randint(2,20,arraySize)\n",
    "extractedElements = [x for x in randmat if x>=14 and 17>=x]\n",
    "print(extractedElements)"
   ]
  },
  {
   "cell_type": "markdown",
   "metadata": {},
   "source": [
    "9. Generate a 1D array of length 20 from floating point numbers between 0 and 1. Divide every element of this array by 1000. Change Numpy's printing options, so that only the first 10 numbers are shown. These numbers should not be printed in the scientific notation, and should not have more than 4 decimal places."
   ]
  },
  {
   "cell_type": "code",
   "execution_count": 464,
   "metadata": {},
   "outputs": [
    {
     "name": "stdout",
     "output_type": "stream",
     "text": [
      "[0.001 0.001 0.    0.    0.001 0.002 0.    0.001 0.001 0.001 0.    0.001\n",
      " 0.    0.001 0.001 0.002 0.    0.001 0.    0.   ]\n"
     ]
    }
   ],
   "source": [
    "randmat = np.random.normal(0,1,20);\n",
    "randmat = np.abs(randmat)\n",
    "randmat = randmat/1000\n",
    "np.set_printoptions(precision = 3,threshold = 10,suppress  = 'false',edge)\n",
    "print(randmat)"
   ]
  },
  {
   "cell_type": "markdown",
   "metadata": {},
   "source": [
    "10. Write a function that returns the softmax scores of a 1D vector."
   ]
  },
  {
   "cell_type": "code",
   "execution_count": 273,
   "metadata": {},
   "outputs": [
    {
     "name": "stdout",
     "output_type": "stream",
     "text": [
      "[0.09003057317038046, 0.24472847105479767, 0.6652409557748219]\n"
     ]
    }
   ],
   "source": [
    "import math\n",
    "def softmaxScore(inputVector):\n",
    "    sumofAll = 0;\n",
    "    for element in inputVector:\n",
    "        sumofAll = sumofAll + math.exp(element)\n",
    "    softmaxScores = [math.exp(x)/sumofAll for x in inputVector]\n",
    "    return softmaxScores\n",
    "exampleVector = [1,2,3]\n",
    "print(softmaxScore(exampleVector))\n"
   ]
  },
  {
   "cell_type": "raw",
   "metadata": {},
   "source": [
    "11. Write a function that returns the a list of one-vectors of a random array of integers between 1 and 5 (inclusive)."
   ]
  },
  {
   "cell_type": "code",
   "execution_count": 274,
   "metadata": {},
   "outputs": [
    {
     "name": "stdout",
     "output_type": "stream",
     "text": [
      "[array([4, 5, 2, 1, 5, 3]), array([1, 2, 1, 5, 4, 2]), array([3, 5, 2, 5, 3, 1])]\n"
     ]
    }
   ],
   "source": [
    "def neededFunction(numberOfVectors,SizeofVectors):\n",
    "    myList = []\n",
    "    for i in range(numberOfVectors):\n",
    "        myList.append(np.random.randint(1,6,SizeofVectors))\n",
    "    return myList \n",
    "example = neededFunction(3,6)\n",
    "print(example)"
   ]
  },
  {
   "cell_type": "markdown",
   "metadata": {},
   "source": [
    "12. Compute the following:\n",
    "    - One-dimensional DFT of `a` and call it `a_fft`\n",
    "    - One-dimensional inverse DFT of `a_fft`\n",
    "    - One-dimensional discrete Fourier Transform for a real input such as `[0, 1, 0, 0]`\n",
    "    - DFT sample frequencies of `[-2, 8, 6, 4, 1, 0, 3, 5]`"
   ]
  },
  {
   "cell_type": "code",
   "execution_count": 275,
   "metadata": {},
   "outputs": [
    {
     "name": "stdout",
     "output_type": "stream",
     "text": [
      "a is: \n",
      "[1.+0.000e+00j 1.-2.449e-16j 1.-4.899e-16j 1.-7.348e-16j 1.-9.797e-16j\n",
      " 1.-1.225e-15j 1.-1.470e-15j 1.-1.715e-15j]\n",
      "\n",
      "Discrete fourier transform of a is:\n",
      "[ 8.000e+00-6.858e-15j  2.365e-15+9.797e-16j  9.797e-16+9.797e-16j\n",
      "  4.058e-16+9.797e-16j  0.000e+00+9.797e-16j -4.058e-16+9.797e-16j\n",
      " -9.797e-16+9.797e-16j -2.365e-15+9.797e-16j]\n",
      "\n",
      "Inverse Discrete fourier transform of a is: \n",
      "[ 8.000e+00-6.858e-15j  2.365e-15+9.797e-16j  9.797e-16+9.797e-16j\n",
      "  4.058e-16+9.797e-16j  0.000e+00+9.797e-16j -4.058e-16+9.797e-16j\n",
      " -9.797e-16+9.797e-16j -2.365e-15+9.797e-16j]\n",
      "\n",
      "DFT of a real inputs[0, 1, 0, 0] is:\n",
      "[ 1.+0.j  0.-1.j -1.+0.j]\n",
      "\n"
     ]
    },
    {
     "data": {
      "text/plain": [
       "array([ 0.  ,  1.25,  2.5 ,  3.75, -5.  , -3.75, -2.5 , -1.25])"
      ]
     },
     "execution_count": 275,
     "metadata": {},
     "output_type": "execute_result"
    }
   ],
   "source": [
    "a = np.exp(2j * np.pi * np.arange(8))\n",
    "print(f\"a is: \\n{a}\\n\")\n",
    "a_fft = np.fft.fft(a)\n",
    "print(f\"Discrete fourier transform of a is:\\n{a_fft}\\n\")\n",
    "inverse_fft = np.fft.ifft(a_fft)\n",
    "print(f\"Inverse Discrete fourier transform of a is: \\n{a_fft}\\n\")\n",
    "realinputs = [0,1,0,0]\n",
    "real_DFT = np.fft.rfft(realinputs)\n",
    "print(f\"DFT of a real inputs{realinputs} is:\\n{real_DFT}\\n\")\n",
    "\n",
    "signal = np.array([-2, 8, 6, 4, 1, 0, 3, 5], dtype=float)\n",
    "#fourier = np.fft.fft(signal)\n",
    "n = signal.size\n",
    "timestep = 0.1\n",
    "freq = np.fft.fftfreq(n, d=timestep)\n",
    "freq\n"
   ]
  },
  {
   "cell_type": "markdown",
   "metadata": {},
   "source": [
    "13. Create x, a vector of evenly spaced numbers between 0 and 40. Then, generate `y1` and `y2` where $y_1=\\sin(x)$ and $y_2=\\sin(2x)+\\cos(x)$. Use matplotlib to plot `y1` and `y2` in a figure. The figure should have the following features:\n",
    "    - Legend: Both x and y axis should have titles\n",
    "    - Color: $y_1$ line should be green and $y_2$ line should be red\n",
    "    - Marker: markers for $y_1$ and $y_2$ should be squares and traingles, respectively\n",
    "    - Line style: $y_1$ and $y_2$ should have different line styles"
   ]
  },
  {
   "cell_type": "code",
   "execution_count": 314,
   "metadata": {},
   "outputs": [
    {
     "data": {
      "image/png": "[encoded data removed]",
      "text/plain": [
       "<Figure size 432x288 with 1 Axes>"
      ]
     },
     "metadata": {},
     "output_type": "display_data"
    }
   ],
   "source": [
    "from matplotlib import pyplot as plt\n",
    "\n",
    "# since there isnt any \n",
    "x = np.linspace(0,40)\n",
    "plt.plot(x,np.sin(x),'gs-',x,np.sin(2*x) + np.cos(x),'r^--') \n",
    "# g:green s:square -:'-' line style\n",
    "# r:red   ^:triangle --:'--' line style\n",
    "plt.xlabel(\"x : linspace(0,40)\")\n",
    "plt.ylabel(\"green: sin(x)  red: sin(2x) + cos(x)\")\n",
    "plt.legend(['y1 = sin(x)','y2 = sin(2x) + cos(x)'])\n",
    "plt.show()"
   ]
  },
  {
   "cell_type": "markdown",
   "metadata": {},
   "source": [
    "14. Create x, a vector of evenly spaced numbers between 0 and 30. Then, generate `y` where `y` is x times two plus a random noise. Use matplotlib to draw a scatter plot from `x` and `y`.\n",
    "\n",
    "    Similar to 13, try to experiment with different features of the scatter plot, such as marker color and size."
   ]
  },
  {
   "cell_type": "code",
   "execution_count": 479,
   "metadata": {},
   "outputs": [
    {
     "data": {
      "image/png": "[encoded data removed]",
      "text/plain": [
       "<Figure size 432x288 with 1 Axes>"
      ]
     },
     "metadata": {},
     "output_type": "display_data"
    }
   ],
   "source": [
    "vecSize = 200; # there isnt any condition on this variable ...\n",
    "x = np.linspace(0,30,vecSize)\n",
    "noise = (10**8)*np.random.normal(0,1,vecSize)\n",
    "color1 = (0,0,1)\n",
    "color2 = (1,0,0)\n",
    "area = np.pi*3\n",
    "y = 2**x + noise\n",
    "\n",
    "plt.scatter(x, y, s=area, c=color1, alpha=0.5)\n",
    "plt.scatter(x,2**x,s=area, c=color2, alpha=0.5)\n",
    "# alpha density of graphs\n",
    "# s is the area of circles used in plotting ...\n",
    "# c is the color of drawn circles\n",
    "plt.title('Scatter plot')\n",
    "plt.xlabel('x')\n",
    "plt.ylabel('y')\n",
    "plt.legend(['y = 2^(x) + noise','y = 2^(x)'])\n",
    "plt.show()"
   ]
  },
  {
   "cell_type": "code",
   "execution_count": null,
   "metadata": {},
   "outputs": [],
   "source": []
  }
 ],
 "metadata": {
  "kernelspec": {
   "display_name": "Python 3",
   "language": "python",
   "name": "python3"
  },
  "language_info": {
   "codemirror_mode": {
    "name": "ipython",
    "version": 3
   },
   "file_extension": ".py",
   "mimetype": "text/x-python",
   "name": "python",
   "nbconvert_exporter": "python",
   "pygments_lexer": "ipython3",
   "version": "3.7.4"
  }
 },
 "nbformat": 4,
 "nbformat_minor": 2
}
