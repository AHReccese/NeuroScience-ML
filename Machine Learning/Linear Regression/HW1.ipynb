{
 "cells": [
  {
   "cell_type": "markdown",
   "metadata": {},
   "source": [
    "# <font color='black'>EE25737: Introduction to Machine Learning</font>\n",
    "## Linear Regression"
   ]
  },
  {
   "cell_type": "markdown",
   "metadata": {},
   "source": [
    "### [AmirHoseinRostami]\n",
    "### [96101635]"
   ]
  },
  {
   "cell_type": "markdown",
   "metadata": {},
   "source": [
    "In this assignment you will implement linear regression algorithm only using linalg and without using scikit-learn.<br>\n",
    "Questions of this notebook are just hinted for your procedure. You should answer the questions of 'HW1.pdf' in your one-page report."
   ]
  },
  {
   "cell_type": "markdown",
   "metadata": {},
   "source": [
    "## Problem C1.Linear regression\n"
   ]
  },
  {
   "cell_type": "markdown",
   "metadata": {},
   "source": [
    "In this question, you will fit a linear regression on a dataset containing\n",
    "several parameters from student applications for graduate studies. These\n",
    "parameters, that are thought to influence the success of the application,\n",
    "are:<br>\n",
    "1.GRE Scores ( out of 340 )<br>\n",
    "2.TOEFL Scores ( out of 120 )<br>\n",
    "3.University Rating ( out of 5 )<br>\n",
    "4.Statement of Purpose Strength ( out of 5 )<br>\n",
    "5.Letter of Recommendation Strength ( out of 5 )<br>\n",
    "6.Undergraduate GPA ( out of 10 )<br>\n",
    "7.Research Experience ( either 0 or 1 )<br>\n",
    "Finally, the dataset includes the following parameter,<br>\n",
    "<font color='red'>8.Chance of getting admitted ( ranging from 0 to 1 )</font><br>\n",
    "\n",
    "\n",
    "\n",
    "In this problem, you first choose one of the parameters 1 to 7, as the\n",
    "important feature based on which a good prediction can be made about the\n",
    "chance of success. Then you will apply linear regression on the whole features to come up with the hypothesis for predicting the chance of\n",
    "admission."
   ]
  },
  {
   "cell_type": "markdown",
   "metadata": {},
   "source": [
    "#### A.Load data\n",
    "first load 'Q1_data.csv' then split last 20 percentage of data for your validation set"
   ]
  },
  {
   "cell_type": "markdown",
   "metadata": {},
   "source": [
    "import data with pandas library.<br>\n",
    "First 7 columns (exclude Serial No) are your training features and name them 'X' and 8th column is label and name it Y."
   ]
  },
  {
   "cell_type": "code",
   "execution_count": 4,
   "metadata": {},
   "outputs": [
    {
     "name": "stdout",
     "output_type": "stream",
     "text": [
      "100\n"
     ]
    }
   ],
   "source": [
    "import pandas as pd\n",
    "\n",
    "## your code to load data\n",
    "\n",
    "# X = ....\n",
    "# Y = ....\n",
    "\n",
    "## your code to split data\n",
    "\n",
    "data = pd.read_csv(\"Q1_data.csv\") \n",
    "data.head()\n",
    "\n",
    "length = len(data)\n",
    "# considering 80 percent of total data to be our training Set.\n",
    "trainSetSize = int(0.8*length) + 1\n",
    "\n",
    "trainSet = data[0:trainSetSize]\n",
    "validSet = data[trainSetSize:] \n",
    "\n",
    "cols = data.columns\n",
    "x_train = trainSet[cols[1:-1]].to_numpy() # or [['GRE Score','TOEFL Score','University Rating','SOP','LOR ','CGPA','Research']]\n",
    "y_train = trainSet[cols[len(cols)-1]].to_numpy() # or [['Chance of Admit ']]\n",
    "\n",
    "x_valid = validSet[cols[1:-1]].to_numpy() # or [['GRE Score','TOEFL Score','University Rating','SOP','LOR ','CGPA','Research']]\n",
    "y_valid = validSet[cols[len(cols)-1]].to_numpy() # or [['Chance of Admit ']]\n",
    "\n",
    "#print(len(x_valid))"
   ]
  },
  {
   "cell_type": "markdown",
   "metadata": {},
   "source": [
    "<h4 style=\"color:red;\" > Report:</h4>\n",
    "<div style=\"background-color:HoneyDew;\">As you can see I've considered 80 percents of the total data to be train set and the left 20 percents to be test set.</div>"
   ]
  },
  {
   "cell_type": "markdown",
   "metadata": {},
   "source": [
    "#### B.Fit linear regression model"
   ]
  },
  {
   "cell_type": "markdown",
   "metadata": {},
   "source": [
    "Fit linear regression model.<br>\n",
    "Define mean square error(MSE) as your loss.<br>\n",
    "Calculate and compare the empirical and true loss.\n",
    "\n",
    "<font color='red'>Note that you are not allowed to use ready-made functions and libraries of linear regression and You should implement the algorithm on your own</font>"
   ]
  },
  {
   "cell_type": "code",
   "execution_count": 5,
   "metadata": {},
   "outputs": [
    {
     "name": "stdout",
     "output_type": "stream",
     "text": [
      "The Best W Vector is(AllFeatureCase): \n",
      "[-1.14854141  0.0013267   0.00251244  0.00595324  0.00377221  0.01610903\n",
      "  0.12575304  0.02376599]\n",
      "MSE for Train(TrainRisk): 0.0034732079245402606\n",
      "MSE for Valid(TrueRisk): 0.003859534790840173\n"
     ]
    }
   ],
   "source": [
    "import numpy as np\n",
    "\n",
    "# review algorithm\n",
    "# invMat = inv((X'X))\n",
    "# Beta = invMat * X'y\n",
    "# y = X*Beta\n",
    "# Beta is also w.\n",
    "\n",
    "## your code to fit linear regression\n",
    "\n",
    "leftOnes = np.ones((len(x_train),1))\n",
    "x_wrappedOne_train = np.concatenate((leftOnes,x_train), axis=1)\n",
    "invMat = np.linalg.inv(np.matmul(np.transpose(x_wrappedOne_train),x_wrappedOne_train))\n",
    "beta = np.matmul(np.matmul(invMat,np.transpose(x_wrappedOne_train)),y_train)\n",
    "print(\"The Best W Vector is(AllFeatureCase): \")\n",
    "print(beta)\n",
    "\n",
    "y_predicted_train = np.matmul(x_wrappedOne_train,beta)\n",
    "# print(y_predicted_train.shape)\n",
    "\n",
    "# calculate MSE\n",
    "mseTrain = (np.square(y_predicted_train - y_train)).mean(axis=0)\n",
    "print(\"MSE for Train(TrainRisk): \" + str(mseTrain))\n",
    "\n",
    "leftOnes = np.ones((len(x_valid),1))\n",
    "x_wrappedOne_valid = np.concatenate((leftOnes,x_valid), axis=1)\n",
    "y_predicted_valid = np.matmul(x_wrappedOne_valid,beta)\n",
    "\n",
    "# calculate MSE\n",
    "mseValid = (np.square(y_predicted_valid - y_valid)).mean(axis=0)\n",
    "print(\"MSE for Valid(TrueRisk): \" + str(mseValid))\n",
    "\n",
    "# mseValid > mseTrain -> "
   ]
  },
  {
   "cell_type": "markdown",
   "metadata": {},
   "source": [
    "<h4 style=\"color:red;\" > Report:(ج)</h4>\n",
    "<div style=\"background-color:HoneyDew;\">As you can see the TrueRisk is more than TrainRisk and it is pretty obvious why, because we have extracted W vector based on the train set so it is acceptable that TrainRisk would be less than TrueRisk,but be careful that the difference between these two Risks(True & Train) should not  be too much because it is a sign of Overfitting and fortunately as you can see it isn't  happened.\n",
    "</div>"
   ]
  },
  {
   "cell_type": "markdown",
   "metadata": {},
   "source": [
    "#### C.Find best feature"
   ]
  },
  {
   "cell_type": "markdown",
   "metadata": {},
   "source": [
    "Plot 'Chance of getting admitted' based on each feature separately."
   ]
  },
  {
   "cell_type": "code",
   "execution_count": 7,
   "metadata": {},
   "outputs": [
    {
     "data": {
      "image/png": "[encoded data removed]",
      "text/plain": [
       "<Figure size 1080x1080 with 9 Axes>"
      ]
     },
     "metadata": {
      "needs_background": "light"
     },
     "output_type": "display_data"
    }
   ],
   "source": [
    "## your code to plot features\n",
    "\n",
    "import matplotlib.pyplot as plt\n",
    "plt.rcParams['figure.figsize'] = [15, 15]\n",
    "\n",
    "# ['GRE Score','TOEFL Score','University Rating','SOP','LOR ','CGPA','Research']\n",
    "\n",
    "def getString(argument):\n",
    "    switcher = {\n",
    "        1: \"GRE Score\",\n",
    "        2: \"TOEFL Score\",\n",
    "        3: \"University Rating\",\n",
    "        4: \"SOP\",\n",
    "        5: \"LOR\",\n",
    "        6: \"CGPA\",\n",
    "        7: \"Research\"\n",
    "    }\n",
    "    return switcher.get(argument+1, \"invalid\")\n",
    "\n",
    "fig, axs = plt.subplots(3,3)\n",
    "\n",
    "for i in range(7):\n",
    "    axs[i//3,i%3].scatter(np.transpose(x_train[:,i]),y_train)\n",
    "    axs[i//3,i%3].set(xlabel=getString(i), ylabel=\"y_train\")\n",
    "    axs[i//3,i%3].set_title(getString(i))\n",
    "plt.show()\n",
    "# As you can see CGPA has more linear relation than other features\n",
    "# So CGPA is accepted :)."
   ]
  },
  {
   "cell_type": "markdown",
   "metadata": {},
   "source": [
    "<h4 style=\"color:red;\" > Report:(د)</h4>\n",
    "<div style=\"background-color:HoneyDew;\">As you can see CGPA has more linear relation(also less variance) than other features so i choose CPGA :).</div>"
   ]
  },
  {
   "cell_type": "markdown",
   "metadata": {},
   "source": [
    "Given that we want to use just one feature for regression, which parameter would you use as this feature?\n",
    "Justify your answer using the seven plots that you obtained earlier. (No mathematical proof is needed)."
   ]
  },
  {
   "cell_type": "markdown",
   "metadata": {},
   "source": [
    "#### D.Fit linear regression model on selected feature\n"
   ]
  },
  {
   "cell_type": "code",
   "execution_count": 8,
   "metadata": {},
   "outputs": [
    {
     "name": "stdout",
     "output_type": "stream",
     "text": [
      "The Best W Vector is(Only_CGPA_Feature): \n",
      "[-1.04294068  0.20539181]\n",
      "MSE for Train(TrainRisk): 0.004139585243464364\n",
      "MSE for Valid(TrueRisk): 0.005419755263358872\n"
     ]
    }
   ],
   "source": [
    "import numpy as np\n",
    "\n",
    "## your code to fit linear regression on the selected feature\n",
    "\n",
    "leftOnes = np.ones((len(x_train),1))\n",
    "cgpaFeatureTrain = np.reshape(x_train[:,5],(len(x_train),1))\n",
    "\n",
    "x_wrappedOne_train = np.concatenate((leftOnes,cgpaFeatureTrain), axis=1)\n",
    "invMat = np.linalg.inv(np.matmul(np.transpose(x_wrappedOne_train),x_wrappedOne_train))\n",
    "beta = np.matmul(np.matmul(invMat,np.transpose(x_wrappedOne_train)),y_train)\n",
    "print(\"The Best W Vector is(Only_CGPA_Feature): \")\n",
    "print(beta)\n",
    "\n",
    "y_predicted_train = np.matmul(x_wrappedOne_train,beta)\n",
    "# print(y_predicted_train.shape)\n",
    "\n",
    "# calculate MSE\n",
    "mseTrain = (np.square(y_predicted_train - y_train)).mean(axis=0)\n",
    "print(\"MSE for Train(TrainRisk): \" + str(mseTrain))\n",
    "\n",
    "leftOnes = np.ones((len(x_valid),1))\n",
    "\n",
    "cgpaFeatureValid= np.reshape(x_valid[:,5],(len(x_valid),1))\n",
    "x_wrappedOne_valid = np.concatenate((leftOnes,cgpaFeatureValid), axis=1)\n",
    "y_predicted_valid = np.matmul(x_wrappedOne_valid,beta)\n",
    "\n",
    "# calculate MSE\n",
    "mseValid = (np.square(y_predicted_valid - y_valid)).mean(axis=0)\n",
    "# mseValid > mseTrain -> \n",
    "print(\"MSE for Valid(TrueRisk): \" + str(mseValid))\n",
    "# MSE_AT_THIS_PART > MSE_AT_PART_B"
   ]
  },
  {
   "cell_type": "markdown",
   "metadata": {},
   "source": [
    "<h4 style=\"color:red;\" > Report:(و)</h4>\n",
    "<div style=\"background-color:HoneyDew;\">As you can see the TrueRisk is more than TrainRisk and it is pretty obvious why, because we have extracted W vector based on the train set so it is acceptable that TrainRisk would be less than TrueRisk,but be careful that the difference between these two Risks(True & Train) should not  be too much because it is a sign of Overfitting and fortunately as you can see it isn't  happened.</div>"
   ]
  },
  {
   "cell_type": "markdown",
   "metadata": {},
   "source": [
    "Fit linear regression model on selected feature.<br>\n",
    "Define mean square error(MSE) as your loss.<br>\n",
    "Calculate the empirical and true loss of the selected feature and compare it with the empirical and true loss of part B."
   ]
  },
  {
   "cell_type": "markdown",
   "metadata": {},
   "source": [
    "<h4 style=\"color:red;\" dir=\"rtl\" >گزارش(ز):</h4>\n",
    "<div style=\"background-color:HoneyDew;font-family:'Times New Roman'\" dir=\"rtl\">همانطور که ملاحظه می کنید خطای حالت تک فیچر از حالت چند فیچر بیشتر شده است(هم خطای تجربی و هم خطای یادگیری) و این امر نیز منطقی است چراکه همانطور که در نمودارها مشاهده کردید سایرفیچرها نیز ارتباطی(هرچند ناچیز) با نتیجه پذیرش داشتند و لذا درنظرگرفتن آن ها باعث می شود که جزییات بیشتری در مدل خود درنظر بگیریم و لذا خطای کمتری در پیش بینی نتایج داشته باشیم.توجه کنید که همیشه اضافه کردن فیچر مفید نیست،چرا؟ چون اگر از یه تعدادی بیشتر فیچر اضافه کنید ممکن است در تهدید پدیده overfitting قرار بگیرید اما چون تفاوت خطای یادگیری وخطای واقعی ناچیز است(درحالت چند فیچر(قسمت ب)) اطمینان داریم که این پدیده رخ نداده است.  </div>"
   ]
  },
  {
   "cell_type": "markdown",
   "metadata": {},
   "source": [
    "## Problem C2.Linear regression for polynomial regression tasks\n"
   ]
  },
  {
   "cell_type": "markdown",
   "metadata": {},
   "source": [
    "In this question, our data set includes only one feature. We would like to\n",
    "apply polynomial regression to this data set. For each of the polynomial\n",
    "degrees from n=1 to n=15, train a polynomial regression on the training\n",
    "data set. <br>\n",
    "Define mean square error(MSE) as your loss.<br>\n",
    "Calculate final empirical and true loss for each degree and plot it based on 'n'. <br>\n",
    "Explain the result and plot in your report.<br>\n",
    "Which degree is proper for our dataset? justify your answer.<br>\n",
    "\n",
    "<font color='red'>Note that you are not allowed to use ready-made functions and libraries of linear regression and You should implement the algorithm on your own</font><br>"
   ]
  },
  {
   "cell_type": "code",
   "execution_count": 9,
   "metadata": {},
   "outputs": [],
   "source": [
    "def calculatePolyRegression(x,y):\n",
    "    \n",
    "    A = np.matmul(x,np.transpose(x))\n",
    "    beta = np.matmul(x,y)\n",
    "    omega = np.matmul(np.linalg.inv(A),beta)\n",
    "    return omega\n",
    "    \n",
    "def getEnhancedSet(data,n):\n",
    "    result = data**0\n",
    "    for i in range(n):\n",
    "        result = np.concatenate((result,data**(i+1)), axis=0)\n",
    "    return result\n",
    "\n",
    "def polyRegression(n,train,valid):\n",
    "    \n",
    "    x_train = np.reshape(train[:,0],(len(train),1)).T\n",
    "    y_train = np.reshape(train[:,1],(len(train),1))\n",
    "    \n",
    "    x_valid = np.reshape(valid[:,0],(len(valid),1)).T\n",
    "    y_valid = np.reshape(valid[:,1],(len(valid),1))\n",
    "    \n",
    "    # getting Phi Matrix (n+1)*M\n",
    "    x_train_enhanced = getEnhancedSet(x_train,n) \n",
    "    x_valid_enhanced = getEnhancedSet(x_valid,n)\n",
    "    # print(x_train_enhanced.shape)\n",
    "    omg = calculatePolyRegression(x_train_enhanced,y_train)\n",
    "    \n",
    "    print(\"\\nW for N=\" + str(n) + \": \\n\")\n",
    "    print(omg)\n",
    "    \n",
    "    y_predicted_train = np.matmul(x_train_enhanced.T,omg)\n",
    "    # calculate MSE\n",
    "    mse_train = (np.square(y_predicted_train - y_train)).mean(axis=0)\n",
    "    # print(\"MSE_Train(N=\" + str(n) +  \"): \" + str(mse_train))\n",
    "    \n",
    "    y_predicted_valid = np.matmul(x_valid_enhanced.T,omg)\n",
    "    # calculate MSE\n",
    "    mse_valid = (np.square(y_predicted_valid - y_valid)).mean(axis=0)\n",
    "    # print(\"MSE_Valid(N=\" + str(n) +  \"): \" + str(mse_valid))\n",
    "    \n",
    "    return (mse_train,mse_valid,omg)\n",
    "    "
   ]
  },
  {
   "cell_type": "code",
   "execution_count": 10,
   "metadata": {},
   "outputs": [
    {
     "name": "stdout",
     "output_type": "stream",
     "text": [
      "\n",
      "W for N=1: \n",
      "\n",
      "[[ 0.3028272 ]\n",
      " [-0.17115968]]\n",
      "\n",
      "W for N=2: \n",
      "\n",
      "[[-0.47153391]\n",
      " [ 0.02303306]\n",
      " [ 0.61487693]]\n",
      "\n",
      "W for N=3: \n",
      "\n",
      "[[-0.44772657]\n",
      " [-0.21431613]\n",
      " [ 0.63302358]\n",
      " [ 0.09907814]]\n",
      "\n",
      "W for N=4: \n",
      "\n",
      "[[-0.13999917]\n",
      " [-0.28076096]\n",
      " [-0.30608827]\n",
      " [ 0.17859025]\n",
      " [ 0.29402467]]\n",
      "\n",
      "W for N=5: \n",
      "\n",
      "[[-0.14467118]\n",
      " [ 0.28887691]\n",
      " [-0.48285907]\n",
      " [-0.52448461]\n",
      " [ 0.37396026]\n",
      " [ 0.17091315]]\n",
      "\n",
      "W for N=6: \n",
      "\n",
      "[[-0.32165221]\n",
      " [ 0.21470849]\n",
      " [ 0.79148165]\n",
      " [-0.65529921]\n",
      " [-0.67297717]\n",
      " [ 0.23686129]\n",
      " [ 0.20954853]]\n",
      "\n",
      "W for N=7: \n",
      "\n",
      "[[-0.32123719]\n",
      " [ 0.20067219]\n",
      " [ 0.79125773]\n",
      " [-0.61887301]\n",
      " [-0.67492274]\n",
      " [ 0.21489276]\n",
      " [ 0.21033192]\n",
      " [ 0.00370995]]\n",
      "\n",
      "W for N=8: \n",
      "\n",
      "[[-0.57681491]\n",
      " [ 0.45232021]\n",
      " [ 3.65340331]\n",
      " [-1.78466323]\n",
      " [-4.91506455]\n",
      " [ 1.06287354]\n",
      " [ 2.19631879]\n",
      " [-0.15970799]\n",
      " [-0.29020886]]\n",
      "\n",
      "W for N=9: \n",
      "\n",
      "[[-0.57892105]\n",
      " [ 0.54257662]\n",
      " [ 3.63311701]\n",
      " [-2.21789034]\n",
      " [-4.80246025]\n",
      " [ 1.55145311]\n",
      " [ 2.11689584]\n",
      " [-0.35701179]\n",
      " [-0.27557899]\n",
      " [ 0.02623102]]\n",
      "\n",
      "W for N=10: \n",
      "\n",
      "[[-0.64409067]\n",
      " [ 0.76160279]\n",
      " [ 4.67315065]\n",
      " [-3.39106496]\n",
      " [-7.48992015]\n",
      " [ 3.15216438]\n",
      " [ 4.56611709]\n",
      " [-1.10790278]\n",
      " [-1.17443454]\n",
      " [ 0.13852473]\n",
      " [ 0.11387094]]\n",
      "\n",
      "W for N=11: \n",
      "\n",
      "[[-0.63856231]\n",
      " [ 0.39815215]\n",
      " [ 4.95996604]\n",
      " [-1.02640221]\n",
      " [-8.96073348]\n",
      " [-0.80544743]\n",
      " [ 6.28163608]\n",
      " [ 1.65676687]\n",
      " [-1.89369753]\n",
      " [-0.72013557]\n",
      " [ 0.21326887]\n",
      " [ 0.09762355]]\n",
      "\n",
      "W for N=12: \n",
      "\n",
      "[[-0.64336162]\n",
      " [ 0.41712332]\n",
      " [ 5.07553763]\n",
      " [-1.1694923 ]\n",
      " [-9.41976255]\n",
      " [-0.47575538]\n",
      " [ 6.90833455]\n",
      " [ 1.37220632]\n",
      " [-2.27723397]\n",
      " [-0.61861195]\n",
      " [ 0.32161322]\n",
      " [ 0.0849361 ]\n",
      " [-0.01149012]]\n",
      "\n",
      "W for N=13: \n",
      "\n",
      "[[-0.64625701]\n",
      " [ 0.76127945]\n",
      " [ 4.58828065]\n",
      " [-4.35681228]\n",
      " [-6.44739884]\n",
      " [ 7.83500296]\n",
      " [ 1.56800977]\n",
      " [-7.87948949]\n",
      " [ 1.65874835]\n",
      " [ 4.38864532]\n",
      " [-0.94496053]\n",
      " [-1.21680098]\n",
      " [ 0.13598348]\n",
      " [ 0.13006569]]\n",
      "\n",
      "W for N=14: \n",
      "\n",
      "[[-5.55167108e-01]\n",
      " [ 3.03603148e-01]\n",
      " [ 2.08760281e+00]\n",
      " [-1.80690186e-02]\n",
      " [ 5.69267398e+00]\n",
      " [-5.02240340e+00]\n",
      " [-2.01056279e+01]\n",
      " [ 7.70106218e+00]\n",
      " [ 2.04959460e+01]\n",
      " [-4.50759386e+00]\n",
      " [-9.53877637e+00]\n",
      " [ 1.17582217e+00]\n",
      " [ 2.11221245e+00]\n",
      " [-1.14186007e-01]\n",
      " [-1.80381477e-01]]\n",
      "\n",
      "W for N=15: \n",
      "\n",
      "[[ -0.55396567]\n",
      " [  0.07653763]\n",
      " [  2.6989561 ]\n",
      " [  3.53914157]\n",
      " [  0.60703943]\n",
      " [-19.22918294]\n",
      " [ -6.52563103]\n",
      " [ 30.67673057]\n",
      " [  5.12830833]\n",
      " [-23.17988837]\n",
      " [ -1.18489463]\n",
      " [  9.27450976]\n",
      " [ -0.05171135]\n",
      " [ -1.90422826]\n",
      " [  0.0340697 ]\n",
      " [  0.15831517]]\n"
     ]
    },
    {
     "data": {
      "image/png": "[encoded data removed]",
      "text/plain": [
       "<Figure size 720x360 with 1 Axes>"
      ]
     },
     "metadata": {
      "needs_background": "light"
     },
     "output_type": "display_data"
    },
    {
     "data": {
      "image/png": "[encoded data removed]",
      "text/plain": [
       "<Figure size 720x360 with 1 Axes>"
      ]
     },
     "metadata": {
      "needs_background": "light"
     },
     "output_type": "display_data"
    },
    {
     "data": {
      "image/png": "[encoded data removed]",
      "text/plain": [
       "<Figure size 720x360 with 1 Axes>"
      ]
     },
     "metadata": {
      "needs_background": "light"
     },
     "output_type": "display_data"
    },
    {
     "name": "stdout",
     "output_type": "stream",
     "text": [
      "\n",
      "W for N=7: \n",
      "\n",
      "[[-0.32123719]\n",
      " [ 0.20067219]\n",
      " [ 0.79125773]\n",
      " [-0.61887301]\n",
      " [-0.67492274]\n",
      " [ 0.21489276]\n",
      " [ 0.21033192]\n",
      " [ 0.00370995]]\n",
      "MSE_Test(N=7): [0.30719022]\n",
      "\n",
      "W for N=8: \n",
      "\n",
      "[[-0.57681491]\n",
      " [ 0.45232021]\n",
      " [ 3.65340331]\n",
      " [-1.78466323]\n",
      " [-4.91506455]\n",
      " [ 1.06287354]\n",
      " [ 2.19631879]\n",
      " [-0.15970799]\n",
      " [-0.29020886]]\n",
      "\n",
      "MSE_Test(N=8): [0.11791425]\n",
      "\n",
      "W for N=9: \n",
      "\n",
      "[[-0.57892105]\n",
      " [ 0.54257662]\n",
      " [ 3.63311701]\n",
      " [-2.21789034]\n",
      " [-4.80246025]\n",
      " [ 1.55145311]\n",
      " [ 2.11689584]\n",
      " [-0.35701179]\n",
      " [-0.27557899]\n",
      " [ 0.02623102]]\n",
      "\n",
      "MSE_Test(N=9): [0.11814495]\n",
      "So N=8 is the best choice\n"
     ]
    }
   ],
   "source": [
    "import numpy as np\n",
    "import matplotlib.patches as mpatches\n",
    "\n",
    "## your code to load 'train_data.npy' , 'validation_data.npy' and 'test_data.npy'\n",
    "\n",
    "train_data = np.load(\"train_data.npy\") \n",
    "validation_data = np.load(\"validation_data.npy\") \n",
    "test_data = np.load(\"test_data.npy\") \n",
    "\n",
    "## your code to train regression for n=1 to n=15 degree\n",
    "\n",
    "n = [i+1 for i in range(15)]\n",
    "\n",
    "trainMSE = []\n",
    "validMSE = []\n",
    "for i in range(15):\n",
    "    train,valid,_ = polyRegression(n[i],train_data,validation_data)\n",
    "    trainMSE.append(train)\n",
    "    validMSE.append(valid)\n",
    "\n",
    "## your code to plot loss\n",
    "    \n",
    "import matplotlib.pyplot as plt\n",
    "plt.rcParams['figure.figsize'] = [10, 5]\n",
    "\n",
    "plt.plot(n,trainMSE)\n",
    "plt.title('MSE(Train) Vs N')\n",
    "plt.xlabel('n')\n",
    "plt.ylabel('MSE(Train)')\n",
    "plt.show()\n",
    "\n",
    "plt.plot(n,validMSE)\n",
    "plt.title('MSE(Valid) Vs N')\n",
    "plt.xlabel('n')\n",
    "plt.ylabel('MSE(Valid)')\n",
    "plt.show()\n",
    "\n",
    "# All togather\n",
    "plt.plot(n,trainMSE,'r')\n",
    "plt.plot(n,validMSE,'b')\n",
    "plt.plot(8,trainMSE[7],'r*')\n",
    "plt.title('MSE Vs N')\n",
    "plt.xlabel('n')\n",
    "plt.ylabel('MSE')\n",
    "\n",
    "trainLgnd = mpatches.Patch(color='red', label='TrainError')\n",
    "validLgnd = mpatches.Patch(color='blue', label='ValidError')\n",
    "\n",
    "plt.legend(handles=[trainLgnd,validLgnd],loc='upper center')\n",
    "\n",
    "plt.show()\n",
    "\n",
    "# best Degree is N = 8.\n",
    "\n",
    "##your code to calculate true risk for best degree\n",
    "\n",
    "# I also draw the testError for both N = 7,9 in order to see whether \n",
    "# they are more than N = 8 or not(if they are,then the more accurate N = 8 is :))\n",
    "\n",
    "# degree N = 8\n",
    "train,valid,omg = polyRegression(7,train_data,validation_data)\n",
    "x_test = np.reshape(test_data[:,0],(len(test_data),1)).T\n",
    "y_test = np.reshape(test_data[:,1],(len(test_data),1))\n",
    "x_test_enhanced = getEnhancedSet(x_test,7)\n",
    "y_predicted_test = np.matmul(x_test_enhanced.T,omg)\n",
    "# calculate MSE\n",
    "mse_train = (np.square(y_predicted_test - y_test)).mean(axis=0)\n",
    "print(\"MSE_Test(N=7): \" + str(mse_train))\n",
    "\n",
    "# degree N = 8\n",
    "train,valid,omg = polyRegression(8,train_data,validation_data)\n",
    "x_test = np.reshape(test_data[:,0],(len(test_data),1)).T\n",
    "y_test = np.reshape(test_data[:,1],(len(test_data),1))\n",
    "x_test_enhanced = getEnhancedSet(x_test,8)\n",
    "y_predicted_test = np.matmul(x_test_enhanced.T,omg)\n",
    "# calculate MSE\n",
    "mse_train = (np.square(y_predicted_test - y_test)).mean(axis=0)\n",
    "print(\"\\nMSE_Test(N=8): \" + str(mse_train))\n",
    "\n",
    "# degree N = 9\n",
    "train,valid,omg = polyRegression(9,train_data,validation_data)\n",
    "x_test = np.reshape(test_data[:,0],(len(test_data),1)).T\n",
    "y_test = np.reshape(test_data[:,1],(len(test_data),1))\n",
    "x_test_enhanced = getEnhancedSet(x_test,9)\n",
    "y_predicted_test = np.matmul(x_test_enhanced.T,omg)\n",
    "# calculate MSE\n",
    "mse_train = (np.square(y_predicted_test - y_test)).mean(axis=0)\n",
    "print(\"\\nMSE_Test(N=9): \" + str(mse_train))\n",
    "print(\"So N=8 is the best choice\")"
   ]
  },
  {
   "cell_type": "markdown",
   "metadata": {},
   "source": [
    "<h4 style=\"color:red;\" dir=\"rtl\" >گزارش قسمت ج</h4>\n",
    "\n",
    "<div style=\"background-color:HoneyDew;font-family:'Lucida Console'\" dir=\"rtl\">\n",
    "انتظار از نمودار خطای واقعی:<br>نمودار خطای واقعی با افزایش درجه چند جمله ای ابتدا کاهش و سپس افزایش می یابد.چراکه در ابتدا با افزایش درجه چند جمله ای داریم که مدلمان در یادگیری الگوی موجود از توانمندی بیشتری برخوردار است و لذا تا یه جایی این توانمندی منتها به بهتر یادگرفتن و لذا کاهش خطای واقعی می گردد اما با افزایش بیشتر پارامتر ها مدلمان نه تنها الگو موجود را بهتر درک نمی کند بلکه صرفا داده های تجربی بخش یادگیری را حفظ میکند و لذا خطای عملی شروع به افزایش می کند بنابراین انتظاری که داریم از خطای عملی آن است که ابتدا کاهش و سپس افزایش یابد\n",
    " </div>\n",
    " \n",
    "<div style=\"background-color:HoneyDew;font-family:'Lucida Console'\" dir=\"rtl\">انتظار از نمودار خطای تجربی: <br>نمودار خطای تجربی با افزایش درجه چند جمله ای کاهش می یابد و دلیل آن هم مشخص است چراکه هراندازه که ما پارامتر های مدل را افزایش دهیم،مدلمان هرچه دقیق تر داده های یادگیری را یاد میگیرد و اگر از یه حدی درجات را زیاد کنیم نه تنها الگوی موجود در داده هارا یاد نمیگیرد بلکه آن هارا فقط حفظ میکند و این باعث می شود که خطای یادگیری بسیار کاهش یابد حال آنکه مدل دچار overfitting میگردد و لذا کیفیت عملکردی اش کاهش خواهد یافت چراکه صرفا با پارامتر های زیاد داده های یادگیری را حفظ کرده است و به الگو موجود توجه نکرده است و لذا انتظار می رود با افزایش درجه چند جمله ای که به مثابه افزایش تعداد پارامتر های مدل است از یه حدی به بعد خطای واقعی ما زیاد شود و به وضوح این مساله در نمودار های رسم شده مشخص است <br>حال اگر بخواهیم جمع بندی کنیم داریم که نمودار خطای تجربی با افزایش پارامتر های سیستم میانگینا کاهش می یابد و نمودار خطای واقعی ابتدا کاهش و سپس افزایش می یابد.دراصل در بازه ای که هر دو خطا در حال کاهش اند مشخص است که مدل در حال یادگیری الگو موجود است و هنگامی که این دو خطا از یکدیگر فاصله میگیرند نشان از رخ داد پدیده overfitting است لذا جهت انتخاب درست باید هنگامی که این دو خطا متمایل به دور شدن از یکدیگر می گردند را نقطه انتخاب بهینه خود برای پارامتر های مدل در نظر بگیریم و در این حالت N = 8 یعنی چند جمله ای با درجه 8 پاسخ مناسب است.</div>\n",
    "\n",
    "<h4 style=\"color:red;\" dir=\"rtl\" >گزارش قسمت د</h4>\n",
    "<div style=\"background-color:HoneyDew;font-family:'Lucida Console'\" dir=\"rtl\">طبق مطالب گفته شده در قسمت ج داریم که به کمک نمودار خطای واقعی(اینکه کی شروع به افزایش یافتن با افزایش درجه چند جمله ای می کند) به انتخاب درجه مناسب می پردازیم و با روی هم قرار دادن نمودار ها داریم که N=8 یعنی چند جمله ای با درجه 8 پاسخ مناسبی است. </div>\n",
    "\n",
    "<h4 style=\"color:red;\" dir=\"rtl\" >گزارش قسمت ه</h4>\n",
    "<div style=\"background-color:HoneyDew;font-family:'Lucida Console'\" dir=\"rtl\">همانطور که می دانید validationSet جهت بهتر تعیین کردن پارامتر های مدل استفاده می شود به اصطلاح جهت fine tuning پارامتر های مدل.اما testSet نقشی در بهتر کردن پارامتر ها ندارد و صرفا یک ارزیابی از کیفیت عملکردی مدل در داده های حقیقی است لذا هنگامی که کارمان با تعیین پارامتر ها تمام شده است دیتاست test  رجحان بیشتری را نسبت به validationSet  (که در تعیین پارامتر های مدل دخیل بود) در تعیین خطای حقیقی دارد. </div>"
   ]
  },
  {
   "cell_type": "code",
   "execution_count": null,
   "metadata": {},
   "outputs": [],
   "source": []
  }
 ],
 "metadata": {
  "kernelspec": {
   "display_name": "Python 3",
   "language": "python",
   "name": "python3"
  },
  "language_info": {
   "codemirror_mode": {
    "name": "ipython",
    "version": 3
   },
   "file_extension": ".py",
   "mimetype": "text/x-python",
   "name": "python",
   "nbconvert_exporter": "python",
   "pygments_lexer": "ipython3",
   "version": "3.7.4"
  }
 },
 "nbformat": 4,
 "nbformat_minor": 2
}
